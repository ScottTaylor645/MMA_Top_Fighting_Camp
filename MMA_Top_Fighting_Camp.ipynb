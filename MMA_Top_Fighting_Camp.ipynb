{
 "cells": [
  {
   "cell_type": "markdown",
   "metadata": {},
   "source": [
    "# Title: MMA Top Fighting Camp\n",
    "### By Author: Scott Taylor"
   ]
  },
  {
   "cell_type": "code",
   "execution_count": 1,
   "metadata": {},
   "outputs": [],
   "source": [
    "# Which Training Camp Produces The Most Top Teir Fighters?\n",
    "\n",
    "import csv\n",
    "import numpy as np\n",
    "import pandas as pd\n",
    "import sqlite3\n",
    "import matplotlib.pyplot as plt"
   ]
  },
  {
   "cell_type": "markdown",
   "metadata": {},
   "source": [
    "### In this next cell I am using pandas to read the data as a csv file. "
   ]
  },
  {
   "cell_type": "code",
   "execution_count": 2,
   "metadata": {},
   "outputs": [],
   "source": [
    "data = pd.read_csv('MMA_Fighters_Gyms.csv')"
   ]
  },
  {
   "cell_type": "code",
   "execution_count": 3,
   "metadata": {},
   "outputs": [
    {
     "data": {
      "text/html": [
       "<div>\n",
       "<style scoped>\n",
       "    .dataframe tbody tr th:only-of-type {\n",
       "        vertical-align: middle;\n",
       "    }\n",
       "\n",
       "    .dataframe tbody tr th {\n",
       "        vertical-align: top;\n",
       "    }\n",
       "\n",
       "    .dataframe thead th {\n",
       "        text-align: right;\n",
       "    }\n",
       "</style>\n",
       "<table border=\"1\" class=\"dataframe\">\n",
       "  <thead>\n",
       "    <tr style=\"text-align: right;\">\n",
       "      <th></th>\n",
       "      <th>title</th>\n",
       "      <th>country</th>\n",
       "      <th>stance</th>\n",
       "      <th>reach</th>\n",
       "      <th>age</th>\n",
       "      <th>weightClass</th>\n",
       "      <th>trainingCenter</th>\n",
       "      <th>wins</th>\n",
       "      <th>loses</th>\n",
       "      <th>draws</th>\n",
       "      <th>tkos</th>\n",
       "      <th>tko wins</th>\n",
       "      <th>tko lose</th>\n",
       "      <th>subs</th>\n",
       "      <th>subs win</th>\n",
       "      <th>subs lose</th>\n",
       "    </tr>\n",
       "  </thead>\n",
       "  <tbody>\n",
       "    <tr>\n",
       "      <th>0</th>\n",
       "      <td>Pete Spratt</td>\n",
       "      <td>USA</td>\n",
       "      <td>Orthodox</td>\n",
       "      <td>NaN</td>\n",
       "      <td>47.0</td>\n",
       "      <td>Lightweight</td>\n",
       "      <td>NaN</td>\n",
       "      <td>12</td>\n",
       "      <td>18</td>\n",
       "      <td>0</td>\n",
       "      <td>5 1</td>\n",
       "      <td>5</td>\n",
       "      <td>1</td>\n",
       "      <td>5 14</td>\n",
       "      <td>5</td>\n",
       "      <td>14</td>\n",
       "    </tr>\n",
       "    <tr>\n",
       "      <th>1</th>\n",
       "      <td>Jonny Carson</td>\n",
       "      <td>USA</td>\n",
       "      <td>NaN</td>\n",
       "      <td>NaN</td>\n",
       "      <td>NaN</td>\n",
       "      <td>Lightweight</td>\n",
       "      <td>Skrap Pack</td>\n",
       "      <td>11</td>\n",
       "      <td>7</td>\n",
       "      <td>0</td>\n",
       "      <td>2 0</td>\n",
       "      <td>2</td>\n",
       "      <td>0</td>\n",
       "      <td>6 7</td>\n",
       "      <td>6</td>\n",
       "      <td>7</td>\n",
       "    </tr>\n",
       "    <tr>\n",
       "      <th>2</th>\n",
       "      <td>Sergio Quinones</td>\n",
       "      <td>USA</td>\n",
       "      <td>NaN</td>\n",
       "      <td>NaN</td>\n",
       "      <td>NaN</td>\n",
       "      <td>Featherweight</td>\n",
       "      <td>NaN</td>\n",
       "      <td>11</td>\n",
       "      <td>19</td>\n",
       "      <td>0</td>\n",
       "      <td>1 5</td>\n",
       "      <td>1</td>\n",
       "      <td>5</td>\n",
       "      <td>7 9</td>\n",
       "      <td>7</td>\n",
       "      <td>9</td>\n",
       "    </tr>\n",
       "    <tr>\n",
       "      <th>3</th>\n",
       "      <td>Alvin Cacdac</td>\n",
       "      <td>USA</td>\n",
       "      <td>Orthodox</td>\n",
       "      <td>NaN</td>\n",
       "      <td>NaN</td>\n",
       "      <td>Flyweight</td>\n",
       "      <td>NaN</td>\n",
       "      <td>17</td>\n",
       "      <td>13</td>\n",
       "      <td>0</td>\n",
       "      <td>8 2</td>\n",
       "      <td>8</td>\n",
       "      <td>2</td>\n",
       "      <td>7 9</td>\n",
       "      <td>7</td>\n",
       "      <td>9</td>\n",
       "    </tr>\n",
       "    <tr>\n",
       "      <th>4</th>\n",
       "      <td>Vincent Latoel</td>\n",
       "      <td>NETHERLANDS</td>\n",
       "      <td>NaN</td>\n",
       "      <td>NaN</td>\n",
       "      <td>39.0</td>\n",
       "      <td>Featherweight</td>\n",
       "      <td>NaN</td>\n",
       "      <td>16</td>\n",
       "      <td>18</td>\n",
       "      <td>2</td>\n",
       "      <td>7 3</td>\n",
       "      <td>7</td>\n",
       "      <td>3</td>\n",
       "      <td>7 14</td>\n",
       "      <td>7</td>\n",
       "      <td>14</td>\n",
       "    </tr>\n",
       "    <tr>\n",
       "      <th>5</th>\n",
       "      <td>Johnny Bedford</td>\n",
       "      <td>USA</td>\n",
       "      <td>Orthodox</td>\n",
       "      <td>71.0\"</td>\n",
       "      <td>35.0</td>\n",
       "      <td>Bantamweight</td>\n",
       "      <td>Fitness Fight Factory</td>\n",
       "      <td>23</td>\n",
       "      <td>13</td>\n",
       "      <td>1</td>\n",
       "      <td>10 2</td>\n",
       "      <td>10</td>\n",
       "      <td>2</td>\n",
       "      <td>9 11</td>\n",
       "      <td>9</td>\n",
       "      <td>11</td>\n",
       "    </tr>\n",
       "    <tr>\n",
       "      <th>6</th>\n",
       "      <td>Tony Llamas</td>\n",
       "      <td>USA</td>\n",
       "      <td>NaN</td>\n",
       "      <td>NaN</td>\n",
       "      <td>NaN</td>\n",
       "      <td>Featherweight</td>\n",
       "      <td>Team Rampage</td>\n",
       "      <td>17</td>\n",
       "      <td>15</td>\n",
       "      <td>0</td>\n",
       "      <td>7 1</td>\n",
       "      <td>7</td>\n",
       "      <td>1</td>\n",
       "      <td>9 14</td>\n",
       "      <td>9</td>\n",
       "      <td>14</td>\n",
       "    </tr>\n",
       "    <tr>\n",
       "      <th>7</th>\n",
       "      <td>Joshua Burkman</td>\n",
       "      <td>USA</td>\n",
       "      <td>Orthodox</td>\n",
       "      <td>72.0\"</td>\n",
       "      <td>37.0</td>\n",
       "      <td>Welterweight</td>\n",
       "      <td>The Pit Elevated Fight Team</td>\n",
       "      <td>28</td>\n",
       "      <td>17</td>\n",
       "      <td>0</td>\n",
       "      <td>7 2</td>\n",
       "      <td>7</td>\n",
       "      <td>2</td>\n",
       "      <td>10 9</td>\n",
       "      <td>10</td>\n",
       "      <td>9</td>\n",
       "    </tr>\n",
       "    <tr>\n",
       "      <th>8</th>\n",
       "      <td>Marcus Hicks</td>\n",
       "      <td>CANADA</td>\n",
       "      <td>NaN</td>\n",
       "      <td>NaN</td>\n",
       "      <td>NaN</td>\n",
       "      <td>Middleweight</td>\n",
       "      <td>Jungle MMA</td>\n",
       "      <td>19</td>\n",
       "      <td>24</td>\n",
       "      <td>0</td>\n",
       "      <td>8 7</td>\n",
       "      <td>8</td>\n",
       "      <td>7</td>\n",
       "      <td>11 15</td>\n",
       "      <td>11</td>\n",
       "      <td>15</td>\n",
       "    </tr>\n",
       "    <tr>\n",
       "      <th>9</th>\n",
       "      <td>Pedro Rizzo</td>\n",
       "      <td>BRAZIL</td>\n",
       "      <td>Orthodox</td>\n",
       "      <td>NaN</td>\n",
       "      <td>44.0</td>\n",
       "      <td>Heavyweight</td>\n",
       "      <td>NaN</td>\n",
       "      <td>13</td>\n",
       "      <td>11</td>\n",
       "      <td>0</td>\n",
       "      <td>10 7</td>\n",
       "      <td>10</td>\n",
       "      <td>7</td>\n",
       "      <td>0 - 0</td>\n",
       "      <td>0</td>\n",
       "      <td>0</td>\n",
       "    </tr>\n",
       "  </tbody>\n",
       "</table>\n",
       "</div>"
      ],
      "text/plain": [
       "             title      country    stance  reach   age    weightClass  \\\n",
       "0      Pete Spratt          USA  Orthodox    NaN  47.0    Lightweight   \n",
       "1     Jonny Carson          USA       NaN    NaN   NaN    Lightweight   \n",
       "2  Sergio Quinones          USA       NaN    NaN   NaN  Featherweight   \n",
       "3     Alvin Cacdac          USA  Orthodox    NaN   NaN      Flyweight   \n",
       "4   Vincent Latoel  NETHERLANDS       NaN    NaN  39.0  Featherweight   \n",
       "5   Johnny Bedford          USA  Orthodox  71.0\"  35.0   Bantamweight   \n",
       "6      Tony Llamas          USA       NaN    NaN   NaN  Featherweight   \n",
       "7   Joshua Burkman          USA  Orthodox  72.0\"  37.0   Welterweight   \n",
       "8     Marcus Hicks       CANADA       NaN    NaN   NaN   Middleweight   \n",
       "9      Pedro Rizzo       BRAZIL  Orthodox    NaN  44.0    Heavyweight   \n",
       "\n",
       "                trainingCenter  wins  loses  draws  tkos  tko wins  tko lose  \\\n",
       "0                          NaN    12     18      0   5 1         5         1   \n",
       "1                   Skrap Pack    11      7      0   2 0         2         0   \n",
       "2                          NaN    11     19      0   1 5         1         5   \n",
       "3                          NaN    17     13      0   8 2         8         2   \n",
       "4                          NaN    16     18      2   7 3         7         3   \n",
       "5        Fitness Fight Factory    23     13      1  10 2        10         2   \n",
       "6                 Team Rampage    17     15      0   7 1         7         1   \n",
       "7  The Pit Elevated Fight Team    28     17      0   7 2         7         2   \n",
       "8                   Jungle MMA    19     24      0   8 7         8         7   \n",
       "9                          NaN    13     11      0  10 7        10         7   \n",
       "\n",
       "    subs  subs win  subs lose  \n",
       "0   5 14         5         14  \n",
       "1    6 7         6          7  \n",
       "2    7 9         7          9  \n",
       "3    7 9         7          9  \n",
       "4   7 14         7         14  \n",
       "5   9 11         9         11  \n",
       "6   9 14         9         14  \n",
       "7   10 9        10          9  \n",
       "8  11 15        11         15  \n",
       "9  0 - 0         0          0  "
      ]
     },
     "execution_count": 3,
     "metadata": {},
     "output_type": "execute_result"
    }
   ],
   "source": [
    "data.head(10)"
   ]
  },
  {
   "cell_type": "markdown",
   "metadata": {},
   "source": [
    "### In this cell I am creating the connection to my database, I create a table and execute my statement. "
   ]
  },
  {
   "cell_type": "code",
   "execution_count": 4,
   "metadata": {},
   "outputs": [],
   "source": [
    "#Creating connection to database file\n",
    "db = sqlite3.connect(\"TopFighters.db\")\n",
    "c = db.cursor()\n",
    "\n",
    "c.execute('''DROP TABLE IF EXISTS[TopCamps]''')\n",
    "c.execute('''CREATE TABLE TopCamps(name, country, stance, weightClass, trainingCenter, wins, loses, tkos)''')\n",
    "\n",
    "with open('MMA_Fighters_Gyms.csv', 'r') as TopCamps_table:\n",
    "    dr = csv.DictReader(TopCamps_table)\n",
    "    to_db = [(i['title'], i['country'], i['stance'], i['weightClass'], i['trainingCenter'], i['wins'], i['loses'], i['tkos']) for i in dr]\n",
    "    \n",
    "c.executemany(\"INSERT INTO TopCamps (name, country, stance, weightClass, trainingCenter, wins, loses, tkos) VALUES (?, ?, ?, ?, ?, ?, ?, ?);\",to_db)\n",
    "db.commit()\n",
    "db.close()"
   ]
  },
  {
   "cell_type": "markdown",
   "metadata": {},
   "source": [
    "### Some Sql being used to query my data from the database."
   ]
  },
  {
   "cell_type": "code",
   "execution_count": 5,
   "metadata": {},
   "outputs": [],
   "source": [
    "db = sqlite3.connect(\"TopFighters.db\")\n",
    "\n",
    "df = pd.read_sql_query(\"SELECT * FROM TopCamps\",db)\n",
    "db.close()"
   ]
  },
  {
   "cell_type": "markdown",
   "metadata": {},
   "source": [
    "### Here I used the Group By function to structure the \"trainingCenter\" from the TopCamps table "
   ]
  },
  {
   "cell_type": "code",
   "execution_count": 6,
   "metadata": {},
   "outputs": [
    {
     "data": {
      "text/html": [
       "<div>\n",
       "<style scoped>\n",
       "    .dataframe tbody tr th:only-of-type {\n",
       "        vertical-align: middle;\n",
       "    }\n",
       "\n",
       "    .dataframe tbody tr th {\n",
       "        vertical-align: top;\n",
       "    }\n",
       "\n",
       "    .dataframe thead th {\n",
       "        text-align: right;\n",
       "    }\n",
       "</style>\n",
       "<table border=\"1\" class=\"dataframe\">\n",
       "  <thead>\n",
       "    <tr style=\"text-align: right;\">\n",
       "      <th></th>\n",
       "      <th>trainingCenter</th>\n",
       "    </tr>\n",
       "  </thead>\n",
       "  <tbody>\n",
       "    <tr>\n",
       "      <th>0</th>\n",
       "      <td></td>\n",
       "    </tr>\n",
       "    <tr>\n",
       "      <th>1</th>\n",
       "      <td>10th Planet Jiu-Jitsu</td>\n",
       "    </tr>\n",
       "    <tr>\n",
       "      <th>2</th>\n",
       "      <td>2 Knuckle Sports MMA Academy</td>\n",
       "    </tr>\n",
       "    <tr>\n",
       "      <th>3</th>\n",
       "      <td>4oz Fight Club</td>\n",
       "    </tr>\n",
       "    <tr>\n",
       "      <th>4</th>\n",
       "      <td>6ix MMA</td>\n",
       "    </tr>\n",
       "  </tbody>\n",
       "</table>\n",
       "</div>"
      ],
      "text/plain": [
       "                 trainingCenter\n",
       "0                              \n",
       "1         10th Planet Jiu-Jitsu\n",
       "2  2 Knuckle Sports MMA Academy\n",
       "3                4oz Fight Club\n",
       "4                       6ix MMA"
      ]
     },
     "execution_count": 6,
     "metadata": {},
     "output_type": "execute_result"
    }
   ],
   "source": [
    "db = sqlite3.connect(\"TopFighters.db\")\n",
    "bareknuckle = pd.read_sql_query('SELECT trainingCenter FROM TopCamps GROUP BY trainingCenter', db)\n",
    "bareknuckle.head()"
   ]
  },
  {
   "cell_type": "code",
   "execution_count": 7,
   "metadata": {},
   "outputs": [],
   "source": [
    "db = sqlite3.connect(\"TopFighters.db\")\n",
    "\n",
    "fights = pd.read_sql_query('''SELECT trainingCenter, SUM(\"wins\"), SUM(\"loses\"), SUM(\"tkos\") FROM TopCamps WHERE length(trainingCenter) > 0 GROUP BY trainingCenter limit 20''',db)\n",
    "db.close()"
   ]
  },
  {
   "cell_type": "markdown",
   "metadata": {},
   "source": [
    "### Using the pd.to_numeric dtype I am setting up the function in Pandas to convert the argument to a numeric type."
   ]
  },
  {
   "cell_type": "code",
   "execution_count": 8,
   "metadata": {},
   "outputs": [],
   "source": [
    "fights[\"wins\"] = pd.to_numeric(fights['SUM(\"wins\")'])\n",
    "fights[\"loses\"] = pd.to_numeric(fights['SUM(\"loses\")'])"
   ]
  },
  {
   "cell_type": "markdown",
   "metadata": {},
   "source": [
    "### This graph shows that AKA(America Kickboxing Academy) is the dominant fighting camp when calculating the win to lose ratio."
   ]
  },
  {
   "cell_type": "code",
   "execution_count": 9,
   "metadata": {},
   "outputs": [
    {
     "data": {
      "text/plain": [
       "Text(0.5, 1.0, 'TrainingCenter_Wins/Loses')"
      ]
     },
     "execution_count": 9,
     "metadata": {},
     "output_type": "execute_result"
    },
    {
     "data": {
      "image/png": "[encoded data removed]",
      "text/plain": [
       "<Figure size 576x504 with 1 Axes>"
      ]
     },
     "metadata": {
      "needs_background": "light"
     },
     "output_type": "display_data"
    }
   ],
   "source": [
    "fig_size = plt.rcParams[\"figure.figsize\"]\n",
    "fig_size[0] = 8\n",
    "fig_size[1] = 7\n",
    "fights = fights.sort_values(\"wins\",ascending = False).reset_index(drop=True)\n",
    "fights.plot(x=\"trainingCenter\", y=[\"wins\", \"loses\"],kind=\"bar\")\n",
    "plt.ylabel(\"win/loses\")\n",
    "plt.title(\"TrainingCenter_Wins/Loses\")"
   ]
  },
  {
   "cell_type": "code",
   "execution_count": 10,
   "metadata": {},
   "outputs": [
    {
     "data": {
      "text/html": [
       "<div>\n",
       "<style scoped>\n",
       "    .dataframe tbody tr th:only-of-type {\n",
       "        vertical-align: middle;\n",
       "    }\n",
       "\n",
       "    .dataframe tbody tr th {\n",
       "        vertical-align: top;\n",
       "    }\n",
       "\n",
       "    .dataframe thead th {\n",
       "        text-align: right;\n",
       "    }\n",
       "</style>\n",
       "<table border=\"1\" class=\"dataframe\">\n",
       "  <thead>\n",
       "    <tr style=\"text-align: right;\">\n",
       "      <th></th>\n",
       "      <th>SUM(\"wins\")</th>\n",
       "      <th>SUM(\"loses\")</th>\n",
       "      <th>SUM(\"tkos\")</th>\n",
       "      <th>wins</th>\n",
       "      <th>loses</th>\n",
       "    </tr>\n",
       "  </thead>\n",
       "  <tbody>\n",
       "    <tr>\n",
       "      <th>count</th>\n",
       "      <td>20.000000</td>\n",
       "      <td>20.000000</td>\n",
       "      <td>20.000000</td>\n",
       "      <td>20.000000</td>\n",
       "      <td>20.000000</td>\n",
       "    </tr>\n",
       "    <tr>\n",
       "      <th>mean</th>\n",
       "      <td>45.400000</td>\n",
       "      <td>21.050000</td>\n",
       "      <td>16.400000</td>\n",
       "      <td>45.400000</td>\n",
       "      <td>21.050000</td>\n",
       "    </tr>\n",
       "    <tr>\n",
       "      <th>std</th>\n",
       "      <td>98.115614</td>\n",
       "      <td>46.736073</td>\n",
       "      <td>38.628323</td>\n",
       "      <td>98.115614</td>\n",
       "      <td>46.736073</td>\n",
       "    </tr>\n",
       "    <tr>\n",
       "      <th>min</th>\n",
       "      <td>1.000000</td>\n",
       "      <td>1.000000</td>\n",
       "      <td>0.000000</td>\n",
       "      <td>1.000000</td>\n",
       "      <td>1.000000</td>\n",
       "    </tr>\n",
       "    <tr>\n",
       "      <th>25%</th>\n",
       "      <td>10.750000</td>\n",
       "      <td>3.000000</td>\n",
       "      <td>2.750000</td>\n",
       "      <td>10.750000</td>\n",
       "      <td>3.000000</td>\n",
       "    </tr>\n",
       "    <tr>\n",
       "      <th>50%</th>\n",
       "      <td>14.500000</td>\n",
       "      <td>7.500000</td>\n",
       "      <td>6.500000</td>\n",
       "      <td>14.500000</td>\n",
       "      <td>7.500000</td>\n",
       "    </tr>\n",
       "    <tr>\n",
       "      <th>75%</th>\n",
       "      <td>30.000000</td>\n",
       "      <td>14.250000</td>\n",
       "      <td>12.000000</td>\n",
       "      <td>30.000000</td>\n",
       "      <td>14.250000</td>\n",
       "    </tr>\n",
       "    <tr>\n",
       "      <th>max</th>\n",
       "      <td>450.000000</td>\n",
       "      <td>211.000000</td>\n",
       "      <td>177.000000</td>\n",
       "      <td>450.000000</td>\n",
       "      <td>211.000000</td>\n",
       "    </tr>\n",
       "  </tbody>\n",
       "</table>\n",
       "</div>"
      ],
      "text/plain": [
       "       SUM(\"wins\")  SUM(\"loses\")  SUM(\"tkos\")        wins       loses\n",
       "count    20.000000     20.000000    20.000000   20.000000   20.000000\n",
       "mean     45.400000     21.050000    16.400000   45.400000   21.050000\n",
       "std      98.115614     46.736073    38.628323   98.115614   46.736073\n",
       "min       1.000000      1.000000     0.000000    1.000000    1.000000\n",
       "25%      10.750000      3.000000     2.750000   10.750000    3.000000\n",
       "50%      14.500000      7.500000     6.500000   14.500000    7.500000\n",
       "75%      30.000000     14.250000    12.000000   30.000000   14.250000\n",
       "max     450.000000    211.000000   177.000000  450.000000  211.000000"
      ]
     },
     "execution_count": 10,
     "metadata": {},
     "output_type": "execute_result"
    }
   ],
   "source": [
    "fights.describe()"
   ]
  },
  {
   "cell_type": "markdown",
   "metadata": {},
   "source": [
    "### This section displays the use of the '!=\"\"' 'ORDER BY' to order the trainingCenters in descending order and take all the null values out of the running.  "
   ]
  },
  {
   "cell_type": "code",
   "execution_count": 11,
   "metadata": {},
   "outputs": [
    {
     "data": {
      "text/html": [
       "<div>\n",
       "<style scoped>\n",
       "    .dataframe tbody tr th:only-of-type {\n",
       "        vertical-align: middle;\n",
       "    }\n",
       "\n",
       "    .dataframe tbody tr th {\n",
       "        vertical-align: top;\n",
       "    }\n",
       "\n",
       "    .dataframe thead th {\n",
       "        text-align: right;\n",
       "    }\n",
       "</style>\n",
       "<table border=\"1\" class=\"dataframe\">\n",
       "  <thead>\n",
       "    <tr style=\"text-align: right;\">\n",
       "      <th></th>\n",
       "      <th>trainingCenter</th>\n",
       "    </tr>\n",
       "  </thead>\n",
       "  <tbody>\n",
       "    <tr>\n",
       "      <th>0</th>\n",
       "      <td>Zingano BJJ</td>\n",
       "    </tr>\n",
       "    <tr>\n",
       "      <th>1</th>\n",
       "      <td>Young Tigers</td>\n",
       "    </tr>\n",
       "    <tr>\n",
       "      <th>2</th>\n",
       "      <td>YK Promotion</td>\n",
       "    </tr>\n",
       "    <tr>\n",
       "      <th>3</th>\n",
       "      <td>Xtreme Couture</td>\n",
       "    </tr>\n",
       "    <tr>\n",
       "      <th>4</th>\n",
       "      <td>Winnipeg Academy of MMA</td>\n",
       "    </tr>\n",
       "    <tr>\n",
       "      <th>5</th>\n",
       "      <td>Wai Kru MMA</td>\n",
       "    </tr>\n",
       "    <tr>\n",
       "      <th>6</th>\n",
       "      <td>Victory MMA</td>\n",
       "    </tr>\n",
       "    <tr>\n",
       "      <th>7</th>\n",
       "      <td>Ultimate Training Centre</td>\n",
       "    </tr>\n",
       "    <tr>\n",
       "      <th>8</th>\n",
       "      <td>Tribe Tokyo MMA</td>\n",
       "    </tr>\n",
       "    <tr>\n",
       "      <th>9</th>\n",
       "      <td>Tiger Muay Thai</td>\n",
       "    </tr>\n",
       "    <tr>\n",
       "      <th>10</th>\n",
       "      <td>The Pit Elevated Fight Team</td>\n",
       "    </tr>\n",
       "    <tr>\n",
       "      <th>11</th>\n",
       "      <td>The Pit</td>\n",
       "    </tr>\n",
       "    <tr>\n",
       "      <th>12</th>\n",
       "      <td>Team Xplode MMA</td>\n",
       "    </tr>\n",
       "    <tr>\n",
       "      <th>13</th>\n",
       "      <td>Team Voodoo</td>\n",
       "    </tr>\n",
       "    <tr>\n",
       "      <th>14</th>\n",
       "      <td>Team Tooke</td>\n",
       "    </tr>\n",
       "    <tr>\n",
       "      <th>15</th>\n",
       "      <td>Team Titan</td>\n",
       "    </tr>\n",
       "    <tr>\n",
       "      <th>16</th>\n",
       "      <td>Team Titan</td>\n",
       "    </tr>\n",
       "    <tr>\n",
       "      <th>17</th>\n",
       "      <td>Team Takedown</td>\n",
       "    </tr>\n",
       "    <tr>\n",
       "      <th>18</th>\n",
       "      <td>Team Sityodtong</td>\n",
       "    </tr>\n",
       "    <tr>\n",
       "      <th>19</th>\n",
       "      <td>Team Rubao Carioca BJJ</td>\n",
       "    </tr>\n",
       "  </tbody>\n",
       "</table>\n",
       "</div>"
      ],
      "text/plain": [
       "                 trainingCenter\n",
       "0                   Zingano BJJ\n",
       "1                  Young Tigers\n",
       "2                  YK Promotion\n",
       "3                Xtreme Couture\n",
       "4       Winnipeg Academy of MMA\n",
       "5                   Wai Kru MMA\n",
       "6                   Victory MMA\n",
       "7      Ultimate Training Centre\n",
       "8               Tribe Tokyo MMA\n",
       "9               Tiger Muay Thai\n",
       "10  The Pit Elevated Fight Team\n",
       "11                      The Pit\n",
       "12              Team Xplode MMA\n",
       "13                  Team Voodoo\n",
       "14                   Team Tooke\n",
       "15                   Team Titan\n",
       "16                   Team Titan\n",
       "17                Team Takedown\n",
       "18              Team Sityodtong\n",
       "19       Team Rubao Carioca BJJ"
      ]
     },
     "execution_count": 11,
     "metadata": {},
     "output_type": "execute_result"
    }
   ],
   "source": [
    "db = sqlite3.connect(\"TopFighters.db\")\n",
    "\n",
    "wins = pd.read_sql_query('''SELECT trainingCenter FROM TopCamps WHERE TrainingCenter !=\"\" ORDER BY wins DESC, trainingCenter DESC''',db)\n",
    "wins.head(20)"
   ]
  },
  {
   "cell_type": "code",
   "execution_count": 12,
   "metadata": {},
   "outputs": [],
   "source": [
    "db = sqlite3.connect(\"TopFighters.db\")\n",
    "\n",
    "victory = pd.read_sql_query('''SELECT trainingCenter, SUM(\"wins\") FROM TopCamps WHERE trainingCenter != \"\" GROUP BY trainingCenter ORDER BY wins DESC LIMIT 20;''',db)\n",
    "db.close()\n"
   ]
  },
  {
   "cell_type": "code",
   "execution_count": 13,
   "metadata": {},
   "outputs": [],
   "source": [
    "victory[\"wins\"] = pd.to_numeric(fights['SUM(\"wins\")'])"
   ]
  },
  {
   "cell_type": "markdown",
   "metadata": {},
   "source": [
    "### In this section we visualize the victiories(sum(wins)) and plot them with a bar graph. "
   ]
  },
  {
   "cell_type": "code",
   "execution_count": 14,
   "metadata": {},
   "outputs": [
    {
     "data": {
      "text/plain": [
       "Text(0.5, 1.0, 'TrainingCenter_Victory')"
      ]
     },
     "execution_count": 14,
     "metadata": {},
     "output_type": "execute_result"
    },
    {
     "data": {
      "image/png": "[encoded data removed]",
      "text/plain": [
       "<Figure size 576x504 with 1 Axes>"
      ]
     },
     "metadata": {
      "needs_background": "light"
     },
     "output_type": "display_data"
    }
   ],
   "source": [
    "fig_size = plt.rcParams[\"figure.figsize\"]\n",
    "fig_size[0] = 8\n",
    "fig_size[1] = 7\n",
    "victory = victory.sort_values(\"wins\",ascending = False).reset_index(drop=True)\n",
    "victory.plot(x=\"trainingCenter\", y=[\"wins\"], kind=\"bar\")\n",
    "plt.ylabel(\"wins\")\n",
    "plt.title(\"TrainingCenter_Victory\")"
   ]
  },
  {
   "cell_type": "markdown",
   "metadata": {},
   "source": [
    "### I used the \"Group BY\" and \"ORDER BY\" together in this cell to show the trainingCenters with 9 loses. "
   ]
  },
  {
   "cell_type": "code",
   "execution_count": 15,
   "metadata": {},
   "outputs": [
    {
     "name": "stdout",
     "output_type": "stream",
     "text": [
      "                    trainingCenter loses\n",
      "0               Alliance Jiu-Jitsu     9\n",
      "1                       BTT Canada     9\n",
      "2                     Brave Legion     9\n",
      "3                             Cave     9\n",
      "4                 Constrictor Team     9\n",
      "5                       Crossfight     9\n",
      "6            Demian Maia Jiu-Jitsu     9\n",
      "7                     Disciple MMA     9\n",
      "8                    Fight Emperor     9\n",
      "9             Gracie Barra Orlando     9\n",
      "10       Grapplers Lair Fight Team     9\n",
      "11                    Halmstad MMA     9\n",
      "12                      Mike's Gym     9\n",
      "13  Minnesota Martial Arts Academy     9\n",
      "14        Pirtek Athletic Allstars     9\n",
      "15   Six Feet Under MMA Fight Team     9\n",
      "16                      Sports Lab     9\n",
      "17                   Team Conquest     9\n",
      "18                   Team Haycraft     9\n",
      "19                       The Arena     9\n"
     ]
    }
   ],
   "source": [
    "db = sqlite3.connect(\"TopFighters.db\")\n",
    "\n",
    "loses = pd.read_sql_query('''SELECT trainingCenter, loses FROM TopCamps WHERE trainingCenter !=\"\" GROUP BY trainingCenter ORDER BY loses DESC LIMIT 20;''',db)\n",
    "print(loses)"
   ]
  },
  {
   "cell_type": "code",
   "execution_count": 16,
   "metadata": {},
   "outputs": [],
   "source": [
    "db = sqlite3.connect(\"TopFighters.db\")\n",
    "\n",
    "defeats = pd.read_sql_query('''SELECT trainingCenter, SUM(\"loses\") FROM TopCamps WHERE length(trainingCenter) > 0 GROUP BY trainingCenter limit 20''',db)\n",
    "db.close()"
   ]
  },
  {
   "cell_type": "markdown",
   "metadata": {},
   "source": [
    "### This bar graph shows the sum of the loses."
   ]
  },
  {
   "cell_type": "code",
   "execution_count": 17,
   "metadata": {},
   "outputs": [],
   "source": [
    "defeats[\"loses\"] = pd.to_numeric(fights['SUM(\"loses\")'])"
   ]
  },
  {
   "cell_type": "code",
   "execution_count": 18,
   "metadata": {},
   "outputs": [
    {
     "data": {
      "text/plain": [
       "Text(0.5, 1.0, 'TrainingCenter_Loses')"
      ]
     },
     "execution_count": 18,
     "metadata": {},
     "output_type": "execute_result"
    },
    {
     "data": {
      "image/png": "[encoded data removed]",
      "text/plain": [
       "<Figure size 576x504 with 1 Axes>"
      ]
     },
     "metadata": {
      "needs_background": "light"
     },
     "output_type": "display_data"
    }
   ],
   "source": [
    "fig_size = plt.rcParams[\"figure.figsize\"]\n",
    "fig_size[0] = 8\n",
    "fig_size[1] = 7\n",
    "defeats = defeats.sort_values(\"loses\",ascending = False).reset_index(drop=True)\n",
    "defeats.plot(x=\"trainingCenter\", y=[\"loses\"], kind=\"bar\")\n",
    "plt.ylabel(\"loses\")\n",
    "plt.title(\"TrainingCenter_Loses\")"
   ]
  },
  {
   "cell_type": "code",
   "execution_count": 19,
   "metadata": {},
   "outputs": [
    {
     "data": {
      "text/html": [
       "<div>\n",
       "<style scoped>\n",
       "    .dataframe tbody tr th:only-of-type {\n",
       "        vertical-align: middle;\n",
       "    }\n",
       "\n",
       "    .dataframe tbody tr th {\n",
       "        vertical-align: top;\n",
       "    }\n",
       "\n",
       "    .dataframe thead th {\n",
       "        text-align: right;\n",
       "    }\n",
       "</style>\n",
       "<table border=\"1\" class=\"dataframe\">\n",
       "  <thead>\n",
       "    <tr style=\"text-align: right;\">\n",
       "      <th></th>\n",
       "      <th>trainingCenter</th>\n",
       "      <th>tkos</th>\n",
       "    </tr>\n",
       "  </thead>\n",
       "  <tbody>\n",
       "    <tr>\n",
       "      <th>0</th>\n",
       "      <td>SBG Manchester</td>\n",
       "      <td>9 6</td>\n",
       "    </tr>\n",
       "    <tr>\n",
       "      <th>1</th>\n",
       "      <td>Daddis Fight Camps</td>\n",
       "      <td>9 4</td>\n",
       "    </tr>\n",
       "    <tr>\n",
       "      <th>2</th>\n",
       "      <td>Team Voodoo</td>\n",
       "      <td>9 4</td>\n",
       "    </tr>\n",
       "    <tr>\n",
       "      <th>3</th>\n",
       "      <td>Sports Lab</td>\n",
       "      <td>9 3</td>\n",
       "    </tr>\n",
       "    <tr>\n",
       "      <th>4</th>\n",
       "      <td>Total MMA Studios</td>\n",
       "      <td>9 3</td>\n",
       "    </tr>\n",
       "    <tr>\n",
       "      <th>5</th>\n",
       "      <td>Aguirre's Fighting System</td>\n",
       "      <td>9 2</td>\n",
       "    </tr>\n",
       "    <tr>\n",
       "      <th>6</th>\n",
       "      <td>Scottish Hit Squad</td>\n",
       "      <td>9 2</td>\n",
       "    </tr>\n",
       "    <tr>\n",
       "      <th>7</th>\n",
       "      <td>Strike MMA</td>\n",
       "      <td>9 2</td>\n",
       "    </tr>\n",
       "    <tr>\n",
       "      <th>8</th>\n",
       "      <td>Third Column</td>\n",
       "      <td>9 2</td>\n",
       "    </tr>\n",
       "    <tr>\n",
       "      <th>9</th>\n",
       "      <td>Janjira Muay Thai</td>\n",
       "      <td>9 1</td>\n",
       "    </tr>\n",
       "    <tr>\n",
       "      <th>10</th>\n",
       "      <td>John 3:16 &amp; 17 Boxing Club</td>\n",
       "      <td>9 1</td>\n",
       "    </tr>\n",
       "    <tr>\n",
       "      <th>11</th>\n",
       "      <td>Krepost</td>\n",
       "      <td>9 1</td>\n",
       "    </tr>\n",
       "    <tr>\n",
       "      <th>12</th>\n",
       "      <td>PMA Super Martial Arts Centre</td>\n",
       "      <td>9 1</td>\n",
       "    </tr>\n",
       "    <tr>\n",
       "      <th>13</th>\n",
       "      <td>Pariah MMA</td>\n",
       "      <td>9 1</td>\n",
       "    </tr>\n",
       "    <tr>\n",
       "      <th>14</th>\n",
       "      <td>Strong Style Fight Team</td>\n",
       "      <td>9 1</td>\n",
       "    </tr>\n",
       "    <tr>\n",
       "      <th>15</th>\n",
       "      <td>The Arena</td>\n",
       "      <td>9 1</td>\n",
       "    </tr>\n",
       "    <tr>\n",
       "      <th>16</th>\n",
       "      <td>Boxing Works</td>\n",
       "      <td>9 0</td>\n",
       "    </tr>\n",
       "    <tr>\n",
       "      <th>17</th>\n",
       "      <td>Team Takedown</td>\n",
       "      <td>9 0</td>\n",
       "    </tr>\n",
       "    <tr>\n",
       "      <th>18</th>\n",
       "      <td>White confirms he'll meet McGregor in Vegas</td>\n",
       "      <td>9 0</td>\n",
       "    </tr>\n",
       "    <tr>\n",
       "      <th>19</th>\n",
       "      <td>Jungle MMA</td>\n",
       "      <td>8 7</td>\n",
       "    </tr>\n",
       "  </tbody>\n",
       "</table>\n",
       "</div>"
      ],
      "text/plain": [
       "                                 trainingCenter tkos\n",
       "0                                SBG Manchester  9 6\n",
       "1                            Daddis Fight Camps  9 4\n",
       "2                                   Team Voodoo  9 4\n",
       "3                                    Sports Lab  9 3\n",
       "4                             Total MMA Studios  9 3\n",
       "5                     Aguirre's Fighting System  9 2\n",
       "6                            Scottish Hit Squad  9 2\n",
       "7                                    Strike MMA  9 2\n",
       "8                                  Third Column  9 2\n",
       "9                             Janjira Muay Thai  9 1\n",
       "10                   John 3:16 & 17 Boxing Club  9 1\n",
       "11                                      Krepost  9 1\n",
       "12                PMA Super Martial Arts Centre  9 1\n",
       "13                                   Pariah MMA  9 1\n",
       "14                      Strong Style Fight Team  9 1\n",
       "15                                    The Arena  9 1\n",
       "16                                 Boxing Works  9 0\n",
       "17                                Team Takedown  9 0\n",
       "18  White confirms he'll meet McGregor in Vegas  9 0\n",
       "19                                   Jungle MMA  8 7"
      ]
     },
     "execution_count": 19,
     "metadata": {},
     "output_type": "execute_result"
    }
   ],
   "source": [
    "db = sqlite3.connect(\"TopFighters.db\")\n",
    "\n",
    "tkos = pd.read_sql_query('''SELECT trainingCenter, tkos FROM TopCamps Where trainingCenter!=\"\" GROUP BY trainingCenter ORDER BY tkos DESC LIMIT 20;''',db)\n",
    "tkos.head(20)"
   ]
  },
  {
   "cell_type": "code",
   "execution_count": 20,
   "metadata": {},
   "outputs": [],
   "source": [
    "db = sqlite3.connect(\"TopFighters.db\")\n",
    "\n",
    "knockouts = pd.read_sql_query('''SELECT trainingCenter,  SUM(\"tkos\") FROM TopCamps WHERE length(trainingCenter) > 0 GROUP BY trainingCenter limit 20''',db)\n",
    "db.close()"
   ]
  },
  {
   "cell_type": "code",
   "execution_count": 21,
   "metadata": {},
   "outputs": [],
   "source": [
    "knockouts[\"tkos\"] = pd.to_numeric(fights['SUM(\"tkos\")'])"
   ]
  },
  {
   "cell_type": "code",
   "execution_count": 22,
   "metadata": {},
   "outputs": [
    {
     "data": {
      "text/plain": [
       "Text(0.5, 1.0, 'TrainingCenter_Wins_By_TKOS')"
      ]
     },
     "execution_count": 22,
     "metadata": {},
     "output_type": "execute_result"
    },
    {
     "data": {
      "image/png": "[encoded data removed]",
      "text/plain": [
       "<Figure size 576x504 with 1 Axes>"
      ]
     },
     "metadata": {
      "needs_background": "light"
     },
     "output_type": "display_data"
    }
   ],
   "source": [
    "fig_size = plt.rcParams[\"figure.figsize\"]\n",
    "fig_size[0] = 8\n",
    "fig_size[1] = 7\n",
    "knockouts = knockouts.sort_values(\"tkos\",ascending = False).reset_index(drop=True)\n",
    "knockouts.plot(x=\"trainingCenter\", y=[\"tkos\"], kind=\"bar\")\n",
    "plt.ylabel(\"tkos\")\n",
    "plt.title(\"TrainingCenter_Wins_By_TKOS\")"
   ]
  },
  {
   "cell_type": "code",
   "execution_count": 23,
   "metadata": {},
   "outputs": [
    {
     "data": {
      "image/png": "[encoded data removed]",
      "text/plain": [
       "<Figure size 648x504 with 1 Axes>"
      ]
     },
     "metadata": {},
     "output_type": "display_data"
    }
   ],
   "source": [
    "#Of the wins from the top trainingCenter this pie chart shows the SUMtkos percentage of wins\n",
    "\n",
    "labels = \"wins\", \"loses\", \"tkos\"\n",
    "sizes = [245, 130, 325]\n",
    "colors = [\"gold\", \"yellowgreen\", \"lightskyblue\"]\n",
    "explode = (0.1, 0, 0)  # explode 1st slice\n",
    "\n",
    "fig_size = plt.rcParams[\"figure.figsize\"]\n",
    "fig_size[0] = 9\n",
    "fig_size[1] = 7\n",
    "    \n",
    "# Plot\n",
    "plt.pie(sizes, explode=explode, labels=labels, colors=colors,\n",
    "autopct=\"%1.1f%%\", shadow=True, startangle=140)\n",
    " \n",
    "plt.axis(\"equal\")\n",
    "plt.title(\"TrainingCenter_TKO_Percentages\")\n",
    "plt.show()"
   ]
  },
  {
   "cell_type": "code",
   "execution_count": null,
   "metadata": {},
   "outputs": [],
   "source": []
  }
 ],
 "metadata": {
  "kernelspec": {
   "display_name": "Python 3",
   "language": "python",
   "name": "python3"
  },
  "language_info": {
   "codemirror_mode": {
    "name": "ipython",
    "version": 3
   },
   "file_extension": ".py",
   "mimetype": "text/x-python",
   "name": "python",
   "nbconvert_exporter": "python",
   "pygments_lexer": "ipython3",
   "version": "3.7.1"
  }
 },
 "nbformat": 4,
 "nbformat_minor": 2
}
